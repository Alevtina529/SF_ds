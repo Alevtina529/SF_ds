{
 "cells": [
  {
   "cell_type": "code",
   "execution_count": null,
   "metadata": {},
   "outputs": [],
   "source": []
  }
 ],
 "metadata": {
  "kernelspec": {
   "display_name": "Python 3.9.10 64-bit",
   "language": "python",
   "name": "python3"
  },
  "language_info": {
   "name": "python",
   "version": "3.9.10"
  },
  "orig_nbformat": 4,
  "vscode": {
   "interpreter": {
    "hash": "b7cb60cb86b9600555b65af63600f14d97543f80a6fd20651af4d9e9bcf14a65"
   }
  }
 },
 "nbformat": 4,
 "nbformat_minor": 2
}
